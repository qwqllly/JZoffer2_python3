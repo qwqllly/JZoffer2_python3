{
 "cells": [
  {
   "cell_type": "markdown",
   "id": "362bbd00",
   "metadata": {},
   "source": [
    "# 方法一：使用类变量 + __new__（经典方式）"
   ]
  },
  {
   "cell_type": "code",
   "execution_count": 4,
   "id": "76432508",
   "metadata": {},
   "outputs": [
    {
     "name": "stdout",
     "output_type": "stream",
     "text": [
      "True\n",
      "<__main__.Singleton object at 0x12090c530>\n"
     ]
    }
   ],
   "source": [
    "class Singleton:\n",
    "    _instance = None  # 用于保存类的唯一实例\n",
    "\n",
    "    def __new__(cls, *args, **kwargs):\n",
    "        if cls._instance is None:\n",
    "            # 如果还没有创建实例，就调用父类创建实例\n",
    "            cls._instance = super().__new__(cls)\n",
    "        return cls._instance\n",
    "\n",
    "# 测试\n",
    "a = Singleton(1)\n",
    "b = Singleton(2)\n",
    "print(a is b)  # True，说明两个对象是同一个\n",
    "print(a)  # 输出两个对象的内存地址，应该是相同的\n"
   ]
  },
  {
   "cell_type": "code",
   "execution_count": 8,
   "id": "c80b585e",
   "metadata": {},
   "outputs": [
    {
     "name": "stdout",
     "output_type": "stream",
     "text": [
      "True\n",
      "4844888832 4844888832\n",
      "<class '__main__.MyClass'>\n",
      "<class '__main__.MyClass'>\n",
      "2 obj_fun\n",
      "2 obj_fun\n",
      "staticmethod\n",
      "44 classmethod\n"
     ]
    }
   ],
   "source": [
    "class SingleTon:\n",
    "    _instance = {} # 字典 _instance[cls]，支持多子类共用\n",
    "\n",
    "    def __new__(cls, *args, **kwargs):\n",
    "        if cls not in cls._instance:\n",
    "            cls._instance[cls] = super().__new__(cls)\n",
    "        return cls._instance[cls]\n",
    "\n",
    "\n",
    "class MyClass(SingleTon):\n",
    "    class_val = 44  # 类变量，所有实例共享\n",
    "    # _initialized = False  # 防止 __init__ 多次执行（可选）\n",
    "\n",
    "    def __init__(self, val):\n",
    "    #     if not self._initialized:\n",
    "              self.val = val\n",
    "    #         MyClass._initialized = True\n",
    "\n",
    "    def obj_fun(self):\n",
    "        print(self.val, 'obj_fun')\n",
    "\n",
    "    @staticmethod\n",
    "    def static_fun():\n",
    "        print('staticmethod')\n",
    "\n",
    "    @classmethod\n",
    "    def class_fun(cls):\n",
    "        print(cls.class_val, 'classmethod')\n",
    "\n",
    "\n",
    "a = MyClass(1)\n",
    "b = MyClass(2)\n",
    "\n",
    "print(a is b)            # True：单例验证\n",
    "print(id(a), id(b))      # ID 相同\n",
    "print(type(a))           # <class '__main__.MyClass'>\n",
    "print(type(b))           # <class '__main__.MyClass'>\n",
    "\n",
    "a.obj_fun()              # 输出 (1, 'obj_fun')，说明 val 没被第二次 __init__ 改写\n",
    "b.obj_fun()              # 同样输出 (1, 'obj_fun')\n",
    "MyClass.static_fun()     # staticmethod\n",
    "MyClass.class_fun()      # 22 classmethod\n"
   ]
  },
  {
   "cell_type": "markdown",
   "id": "3ee12ca2",
   "metadata": {},
   "source": [
    "# 方法二：使用装饰器（函数式单例）"
   ]
  },
  {
   "cell_type": "code",
   "execution_count": 9,
   "id": "4686000a",
   "metadata": {},
   "outputs": [
    {
     "name": "stdout",
     "output_type": "stream",
     "text": [
      "初始化 MyClass\n",
      "True\n"
     ]
    }
   ],
   "source": [
    "def singleton(cls):\n",
    "    instances = {}  # 字典缓存类对应的实例\n",
    "\n",
    "    def get_instance(*args, **kwargs):\n",
    "        if cls not in instances:\n",
    "            # 如果还没有这个类的实例，就创建并保存\n",
    "            instances[cls] = cls(*args, **kwargs)\n",
    "        return instances[cls]\n",
    "\n",
    "    return get_instance\n",
    "\n",
    "@singleton\n",
    "class MyClass:\n",
    "    def __init__(self):\n",
    "        print(\"初始化 MyClass\")\n",
    "\n",
    "# 测试\n",
    "a = MyClass()\n",
    "b = MyClass()\n",
    "print(a is b)  # True\n"
   ]
  },
  {
   "cell_type": "code",
   "execution_count": 12,
   "id": "a7f63db8",
   "metadata": {},
   "outputs": [
    {
     "name": "stdout",
     "output_type": "stream",
     "text": [
      "True\n",
      "1 1\n",
      "123 123\n"
     ]
    }
   ],
   "source": [
    "from functools import wraps\n",
    "\n",
    "# 单例装饰器\n",
    "def single_ton(cls):\n",
    "    _instance = {}  # 用字典缓存每个类对应的唯一实例\n",
    "\n",
    "    @wraps(cls) # 保留原类的元信息（如 __name__, __doc__），调试友好\n",
    "    def single(*args, **kwargs):\n",
    "        if cls not in _instance:\n",
    "            # 如果还没有创建过，就创建并保存\n",
    "            _instance[cls] = cls(*args, **kwargs)\n",
    "        return _instance[cls]\n",
    "\n",
    "    return single  # 返回包装后的函数（代替原类）\n",
    "\n",
    "# 使用装饰器实现单例\n",
    "@single_ton\n",
    "class SingleTon:\n",
    "    val = 123\n",
    "\n",
    "    def __init__(self, a):\n",
    "        self.a = a\n",
    "\n",
    "if __name__ == '__main__':\n",
    "    s = SingleTon(1)\n",
    "    t = SingleTon(2)\n",
    "\n",
    "    print(s is t)           # True：单例验证\n",
    "    print(s.a, t.a)         # 1 1：构造函数只执行一次，第二次不改变 a\n",
    "    print(s.val, t.val)     # 123 123：类属性也一致\n"
   ]
  },
  {
   "cell_type": "markdown",
   "id": "646219b7",
   "metadata": {},
   "source": [
    "# 方法三：使用模块（Pythonic 最推荐）"
   ]
  },
  {
   "cell_type": "code",
   "execution_count": null,
   "id": "ec9df267",
   "metadata": {},
   "outputs": [],
   "source": [
    "# singleton_module.py:\n",
    "class MySingleton:\n",
    "    def __init__(self):\n",
    "        print(\"初始化 MySingleton\")\n",
    "\n",
    "singleton = MySingleton()  # 模块级别的对象\n",
    "\n",
    "\n",
    "# main.py:\n",
    "from singleton_module import singleton\n",
    "\n",
    "a = singleton\n",
    "b = singleton\n",
    "print(a is b)  # True\n"
   ]
  },
  {
   "cell_type": "code",
   "execution_count": null,
   "id": "f5f10589",
   "metadata": {},
   "outputs": [],
   "source": [
    "# use_module.py\n",
    "class SingleTon(object):\n",
    "\n",
    "    def __init__(self, val):\n",
    "        self.val = val\n",
    "\n",
    "single = SingleTon(2)\n",
    "\n",
    "\n",
    "# test_module.py\n",
    "from use_module import single\n",
    "\n",
    "a = single\n",
    "b = single\n",
    "print (a.val, b.val)\n",
    "print (a is b)\n",
    "a.val = 233\n",
    "print (a.val, b.val)\n"
   ]
  },
  {
   "cell_type": "markdown",
   "id": "850d626a",
   "metadata": {},
   "source": [
    "# 方法四：使用元类（进阶方式）"
   ]
  },
  {
   "cell_type": "code",
   "execution_count": 19,
   "id": "ef11e76a",
   "metadata": {},
   "outputs": [
    {
     "name": "stdout",
     "output_type": "stream",
     "text": [
      "True\n",
      "True\n",
      "False\n",
      "3 3\n",
      "5 5\n"
     ]
    }
   ],
   "source": [
    "class SingletonMeta(type):\n",
    "    _instances = {}\n",
    "\n",
    "    def __call__(cls, *args, **kwargs):\n",
    "        if cls not in cls._instances:\n",
    "            # 调用父类的 __call__ 创建实例并缓存\n",
    "            cls._instances[cls] = super().__call__(*args, **kwargs)\n",
    "        return cls._instances[cls]\n",
    "\n",
    "class MyClass(metaclass=SingletonMeta):\n",
    "    def __init__(self, val):\n",
    "        self.val = val\n",
    "\n",
    "class HerClass(metaclass=SingletonMeta):\n",
    "    def __init__(self, val):\n",
    "        self.val = val\n",
    "\n",
    "# 测试\n",
    "a = MyClass(3)\n",
    "b = MyClass(4)\n",
    "print(a is b)  # True\n",
    "\n",
    "c = HerClass(5)\n",
    "d = HerClass(6)\n",
    "print(c is d)  # True\n",
    "print(a is c)  # False，两个不同类的单例实例\n",
    "print(a.val, b.val)  # 3 3，MyClass 的实例值\n",
    "print(c.val, d.val)  # 5 5，HerClass 的实例值"
   ]
  },
  {
   "cell_type": "markdown",
   "id": "67d0b775",
   "metadata": {},
   "source": [
    "# 方法五：线程安全（可用于面试加分）"
   ]
  },
  {
   "cell_type": "code",
   "execution_count": 21,
   "id": "3d3df08e",
   "metadata": {},
   "outputs": [
    {
     "name": "stdout",
     "output_type": "stream",
     "text": [
      "True\n",
      "<__main__.ThreadSafeSingleton object at 0x120c73230>\n"
     ]
    }
   ],
   "source": [
    "import threading\n",
    "\n",
    "class ThreadSafeSingleton:\n",
    "    _instance = None # 用于保存唯一实例\n",
    "    _lock = threading.Lock()  # 锁对象，确保线程安全\n",
    "\n",
    "    def __new__(cls, *args, **kwargs):\n",
    "        if cls._instance is None: # 第一次判断，提高性能（避免每次都加锁）\n",
    "            with cls._lock: # 加锁，确保不会有多个线程同时进入。只有第一次创建时加锁\n",
    "                if cls._instance is None: # 第二次判断，确保只有一个实例被创建\n",
    "                    cls._instance = super().__new__(cls) # 创建实例\n",
    "        return cls._instance\n",
    "\n",
    "# 测试\n",
    "a = ThreadSafeSingleton(1)\n",
    "b = ThreadSafeSingleton(2)\n",
    "print(a is b)  # True，说明两个对象是同一个\n",
    "print(a)  # 输出两个对象的内存地址，应该是相同的\n"
   ]
  },
  {
   "cell_type": "code",
   "execution_count": 27,
   "id": "0050c4db",
   "metadata": {},
   "outputs": [
    {
     "name": "stdout",
     "output_type": "stream",
     "text": [
      "[线程1] 正在创建实例\n",
      "[线程2] 实例ID：4844898016\n",
      "[线程3] 实例ID：4844898016\n",
      "[线程4] 实例ID：4844898016\n",
      "[线程5] 实例ID：4844898016\n",
      "[线程1] 实例ID：4844898016\n"
     ]
    }
   ],
   "source": [
    "import threading\n",
    "import time\n",
    "\n",
    "class ThreadSafeSingleton:\n",
    "    _instance = None\n",
    "    _lock = threading.Lock()\n",
    "\n",
    "    def __new__(cls, *args, **kwargs):\n",
    "        if cls._instance is None:\n",
    "            with cls._lock:\n",
    "                if cls._instance is None:\n",
    "                    print(f\"[{threading.current_thread().name}] 正在创建实例\")\n",
    "                    cls._instance = super().__new__(cls)\n",
    "                    time.sleep(0.1)  # 模拟耗时操作\n",
    "        return cls._instance\n",
    "\n",
    "    def __init__(self):\n",
    "        self.value = 42\n",
    "\n",
    "# 测试函数：尝试获取单例\n",
    "def create_instance():\n",
    "    obj = ThreadSafeSingleton()\n",
    "    print(f\"[{threading.current_thread().name}] 实例ID：{id(obj)}\")\n",
    "\n",
    "if __name__ == \"__main__\":\n",
    "    threads = [] # 创建一个空列表，用来保存后面创建的所有线程对象。这样可以统一管理线程，后面会用来 join() 等待它们结束\n",
    "    for i in range(5):\n",
    "        t = threading.Thread(target=create_instance, name=f\"线程{i+1}\") # 创建线程对象，指定目标函数和线程名称。当线程启动时，它就会执行这个函数\n",
    "        threads.append(t) # 把创建好的线程对象 t 添加到列表 threads 中\n",
    "        t.start() # 启动线程，开始执行目标函数。\n",
    "        # “异步”执行。每个线程会并发调用 ThreadSafeSingleton()，也就是我们要测试的单例类\n",
    "\n",
    "    for t in threads:\n",
    "        t.join() # t.join() 会阻塞主线程（即 main 线程），直到线程 t 执行完毕\n",
    "        #所以这一段的作用是：等待前面启动的所有线程执行完毕后再继续往下走；这样可以保证主程序不会提前结束，确保我们能看到所有线程的输出。\n"
   ]
  },
  {
   "cell_type": "markdown",
   "id": "59626824",
   "metadata": {},
   "source": [
    "#### 输出顺序解释\n",
    "操作系统在运行多线程程序时，每个线程并不是按顺序依次执行，而是由操作系统调度器决定什么时候运行哪个线程、运行多长时间。\n",
    "\n",
    "在你这个例子中：\n",
    "线程1最先启动，进入 __new__() 方法。\n",
    "它满足 if cls._instance is None。\n",
    "打印了 [线程1] 正在创建实例\n",
    "然后线程1被操作系统“暂停”了（中途挂起！），让线程2、3、4、5先运行完。\n",
    "这些线程此时看到 _instance 已经不是 None（因为线程1已经创建了对象），所以直接拿到了对象。\n",
    "打印了它们自己的 实例ID\n",
    "最后线程1继续执行下半段（被唤醒），打印自己的 实例ID\n",
    "\n",
    "✅ 为什么线程1先输出“正在创建实例”但最后才输出 实例ID？\n",
    "因为：\n",
    "print(f\"[线程1] 正在创建实例\") 是在锁内部，很早就执行了；\n",
    "但接下来的 print(f\"[线程1] 实例ID...\") 是在锁外的 create_instance() 函数里；\n",
    "操作系统可能在两次之间暂停了线程1的运行，把时间让给了其他线程；\n",
    "所以其它线程“插队”打印了 实例ID，最后线程1才补上。"
   ]
  }
 ],
 "metadata": {
  "kernelspec": {
   "display_name": "base",
   "language": "python",
   "name": "python3"
  },
  "language_info": {
   "codemirror_mode": {
    "name": "ipython",
    "version": 3
   },
   "file_extension": ".py",
   "mimetype": "text/x-python",
   "name": "python",
   "nbconvert_exporter": "python",
   "pygments_lexer": "ipython3",
   "version": "3.12.7"
  }
 },
 "nbformat": 4,
 "nbformat_minor": 5
}
